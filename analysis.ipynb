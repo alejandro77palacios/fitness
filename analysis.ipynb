{
 "cells": [
  {
   "cell_type": "code",
   "execution_count": 1,
   "id": "initial_id",
   "metadata": {
    "collapsed": true,
    "ExecuteTime": {
     "end_time": "2023-11-03T00:26:09.538724Z",
     "start_time": "2023-11-03T00:26:05.363864Z"
    }
   },
   "outputs": [],
   "source": [
    "import pandas as pd\n",
    "import seaborn as sns\n",
    "from sklearn.metrics import ConfusionMatrixDisplay, confusion_matrix, roc_auc_score\n",
    "from sklearn.model_selection import GridSearchCV\n",
    "from sklearn.neighbors import KNeighborsClassifier\n",
    "from sklearn.model_selection import KFold\n",
    "from sklearn.model_selection import GridSearchCV"
   ]
  },
  {
   "cell_type": "code",
   "execution_count": 2,
   "outputs": [],
   "source": [
    "my_palette = ['#10A19D', '#540375', '#FF7000', '#FFBF00', '#dd44aa', '#BEBEBE', '#112385']\n",
    "sns.set_theme(style='whitegrid')\n",
    "sns.set_palette(sns.color_palette(my_palette))"
   ],
   "metadata": {
    "collapsed": false,
    "ExecuteTime": {
     "end_time": "2023-11-03T00:26:40.597207Z",
     "start_time": "2023-11-03T00:26:40.580446Z"
    }
   },
   "id": "3388651931f7791"
  },
  {
   "cell_type": "markdown",
   "source": [
    "# Reading data"
   ],
   "metadata": {
    "collapsed": false
   },
   "id": "dc91ee928aa419b"
  },
  {
   "cell_type": "code",
   "execution_count": 3,
   "outputs": [
    {
     "data": {
      "text/plain": "      booking_id  months_as_member  weight days_before day_of_week time  \\\n0              1                17   79.56           8         Wed   PM   \n1              2                10   79.01           2         Mon   AM   \n2              3                16   74.53          14         Sun   AM   \n3              4                 5   86.12          10         Fri   AM   \n4              5                15   69.29           8         Thu   AM   \n...          ...               ...     ...         ...         ...  ...   \n1495        1496                21   79.51          10         Fri   AM   \n1496        1497                29   89.55           2         Mon   AM   \n1497        1498                 9   87.38           4         Tue   AM   \n1498        1499                34   68.64          14         Sun   AM   \n1499        1500                20   94.39           8         Thu   AM   \n\n      category  attended  \n0     Strength         0  \n1         HIIT         0  \n2     Strength         0  \n3      Cycling         0  \n4         HIIT         0  \n...        ...       ...  \n1495      HIIT         0  \n1496  Strength         0  \n1497      HIIT         0  \n1498      Aqua         0  \n1499   Cycling         1  \n\n[1500 rows x 8 columns]",
      "text/html": "<div>\n<style scoped>\n    .dataframe tbody tr th:only-of-type {\n        vertical-align: middle;\n    }\n\n    .dataframe tbody tr th {\n        vertical-align: top;\n    }\n\n    .dataframe thead th {\n        text-align: right;\n    }\n</style>\n<table border=\"1\" class=\"dataframe\">\n  <thead>\n    <tr style=\"text-align: right;\">\n      <th></th>\n      <th>booking_id</th>\n      <th>months_as_member</th>\n      <th>weight</th>\n      <th>days_before</th>\n      <th>day_of_week</th>\n      <th>time</th>\n      <th>category</th>\n      <th>attended</th>\n    </tr>\n  </thead>\n  <tbody>\n    <tr>\n      <th>0</th>\n      <td>1</td>\n      <td>17</td>\n      <td>79.56</td>\n      <td>8</td>\n      <td>Wed</td>\n      <td>PM</td>\n      <td>Strength</td>\n      <td>0</td>\n    </tr>\n    <tr>\n      <th>1</th>\n      <td>2</td>\n      <td>10</td>\n      <td>79.01</td>\n      <td>2</td>\n      <td>Mon</td>\n      <td>AM</td>\n      <td>HIIT</td>\n      <td>0</td>\n    </tr>\n    <tr>\n      <th>2</th>\n      <td>3</td>\n      <td>16</td>\n      <td>74.53</td>\n      <td>14</td>\n      <td>Sun</td>\n      <td>AM</td>\n      <td>Strength</td>\n      <td>0</td>\n    </tr>\n    <tr>\n      <th>3</th>\n      <td>4</td>\n      <td>5</td>\n      <td>86.12</td>\n      <td>10</td>\n      <td>Fri</td>\n      <td>AM</td>\n      <td>Cycling</td>\n      <td>0</td>\n    </tr>\n    <tr>\n      <th>4</th>\n      <td>5</td>\n      <td>15</td>\n      <td>69.29</td>\n      <td>8</td>\n      <td>Thu</td>\n      <td>AM</td>\n      <td>HIIT</td>\n      <td>0</td>\n    </tr>\n    <tr>\n      <th>...</th>\n      <td>...</td>\n      <td>...</td>\n      <td>...</td>\n      <td>...</td>\n      <td>...</td>\n      <td>...</td>\n      <td>...</td>\n      <td>...</td>\n    </tr>\n    <tr>\n      <th>1495</th>\n      <td>1496</td>\n      <td>21</td>\n      <td>79.51</td>\n      <td>10</td>\n      <td>Fri</td>\n      <td>AM</td>\n      <td>HIIT</td>\n      <td>0</td>\n    </tr>\n    <tr>\n      <th>1496</th>\n      <td>1497</td>\n      <td>29</td>\n      <td>89.55</td>\n      <td>2</td>\n      <td>Mon</td>\n      <td>AM</td>\n      <td>Strength</td>\n      <td>0</td>\n    </tr>\n    <tr>\n      <th>1497</th>\n      <td>1498</td>\n      <td>9</td>\n      <td>87.38</td>\n      <td>4</td>\n      <td>Tue</td>\n      <td>AM</td>\n      <td>HIIT</td>\n      <td>0</td>\n    </tr>\n    <tr>\n      <th>1498</th>\n      <td>1499</td>\n      <td>34</td>\n      <td>68.64</td>\n      <td>14</td>\n      <td>Sun</td>\n      <td>AM</td>\n      <td>Aqua</td>\n      <td>0</td>\n    </tr>\n    <tr>\n      <th>1499</th>\n      <td>1500</td>\n      <td>20</td>\n      <td>94.39</td>\n      <td>8</td>\n      <td>Thu</td>\n      <td>AM</td>\n      <td>Cycling</td>\n      <td>1</td>\n    </tr>\n  </tbody>\n</table>\n<p>1500 rows × 8 columns</p>\n</div>"
     },
     "execution_count": 3,
     "metadata": {},
     "output_type": "execute_result"
    }
   ],
   "source": [
    "fitness = pd.read_csv('data/fitness_class_2212.csv')\n",
    "fitness"
   ],
   "metadata": {
    "collapsed": false,
    "ExecuteTime": {
     "end_time": "2023-11-03T00:26:47.948516Z",
     "start_time": "2023-11-03T00:26:47.918818Z"
    }
   },
   "id": "49ca046565d4fc81"
  },
  {
   "cell_type": "code",
   "execution_count": 162,
   "outputs": [
    {
     "name": "stdout",
     "output_type": "stream",
     "text": [
      "<class 'pandas.core.frame.DataFrame'>\n",
      "RangeIndex: 1500 entries, 0 to 1499\n",
      "Data columns (total 8 columns):\n",
      " #   Column            Non-Null Count  Dtype  \n",
      "---  ------            --------------  -----  \n",
      " 0   booking_id        1500 non-null   int64  \n",
      " 1   months_as_member  1500 non-null   int64  \n",
      " 2   weight            1480 non-null   float64\n",
      " 3   days_before       1500 non-null   object \n",
      " 4   day_of_week       1500 non-null   object \n",
      " 5   time              1500 non-null   object \n",
      " 6   category          1500 non-null   object \n",
      " 7   attended          1500 non-null   int64  \n",
      "dtypes: float64(1), int64(3), object(4)\n",
      "memory usage: 93.9+ KB\n"
     ]
    }
   ],
   "source": [
    "fitness.info()"
   ],
   "metadata": {
    "collapsed": false
   },
   "id": "dd1524ca0eff79b4"
  },
  {
   "cell_type": "markdown",
   "source": [
    "The only missing values are in the column `weight`. So, there is no need to impute any other column."
   ],
   "metadata": {
    "collapsed": false
   },
   "id": "36f245efe4c9aa8c"
  }
 ],
 "metadata": {
  "kernelspec": {
   "display_name": "Python 3",
   "language": "python",
   "name": "python3"
  },
  "language_info": {
   "codemirror_mode": {
    "name": "ipython",
    "version": 2
   },
   "file_extension": ".py",
   "mimetype": "text/x-python",
   "name": "python",
   "nbconvert_exporter": "python",
   "pygments_lexer": "ipython2",
   "version": "2.7.6"
  }
 },
 "nbformat": 4,
 "nbformat_minor": 5
}
