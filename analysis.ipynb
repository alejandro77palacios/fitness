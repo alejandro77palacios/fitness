{
 "cells": [
  {
   "cell_type": "code",
   "execution_count": 13,
   "id": "initial_id",
   "metadata": {
    "collapsed": true,
    "ExecuteTime": {
     "end_time": "2023-11-03T00:34:47.716971Z",
     "start_time": "2023-11-03T00:34:47.589904Z"
    }
   },
   "outputs": [],
   "source": [
    "import pandas as pd\n",
    "import seaborn as sns\n",
    "from sklearn.metrics import ConfusionMatrixDisplay, confusion_matrix, roc_auc_score\n",
    "from sklearn.model_selection import GridSearchCV\n",
    "from sklearn.neighbors import KNeighborsClassifier\n",
    "from sklearn.model_selection import KFold\n",
    "from sklearn.model_selection import GridSearchCV"
   ]
  },
  {
   "cell_type": "code",
   "execution_count": 14,
   "outputs": [],
   "source": [
    "my_palette = ['#10A19D', '#540375', '#FF7000', '#FFBF00', '#dd44aa', '#BEBEBE', '#112385']\n",
    "sns.set_theme(style='whitegrid')\n",
    "sns.set_palette(sns.color_palette(my_palette))"
   ],
   "metadata": {
    "collapsed": false,
    "ExecuteTime": {
     "end_time": "2023-11-03T00:34:47.748182Z",
     "start_time": "2023-11-03T00:34:47.657816Z"
    }
   },
   "id": "3388651931f7791"
  },
  {
   "cell_type": "markdown",
   "source": [
    "# Reading data"
   ],
   "metadata": {
    "collapsed": false
   },
   "id": "dc91ee928aa419b"
  },
  {
   "cell_type": "code",
   "execution_count": 15,
   "outputs": [
    {
     "data": {
      "text/plain": "      booking_id  months_as_member  weight days_before day_of_week time  \\\n0              1                17   79.56           8         Wed   PM   \n1              2                10   79.01           2         Mon   AM   \n2              3                16   74.53          14         Sun   AM   \n3              4                 5   86.12          10         Fri   AM   \n4              5                15   69.29           8         Thu   AM   \n...          ...               ...     ...         ...         ...  ...   \n1495        1496                21   79.51          10         Fri   AM   \n1496        1497                29   89.55           2         Mon   AM   \n1497        1498                 9   87.38           4         Tue   AM   \n1498        1499                34   68.64          14         Sun   AM   \n1499        1500                20   94.39           8         Thu   AM   \n\n      category  attended  \n0     Strength         0  \n1         HIIT         0  \n2     Strength         0  \n3      Cycling         0  \n4         HIIT         0  \n...        ...       ...  \n1495      HIIT         0  \n1496  Strength         0  \n1497      HIIT         0  \n1498      Aqua         0  \n1499   Cycling         1  \n\n[1500 rows x 8 columns]",
      "text/html": "<div>\n<style scoped>\n    .dataframe tbody tr th:only-of-type {\n        vertical-align: middle;\n    }\n\n    .dataframe tbody tr th {\n        vertical-align: top;\n    }\n\n    .dataframe thead th {\n        text-align: right;\n    }\n</style>\n<table border=\"1\" class=\"dataframe\">\n  <thead>\n    <tr style=\"text-align: right;\">\n      <th></th>\n      <th>booking_id</th>\n      <th>months_as_member</th>\n      <th>weight</th>\n      <th>days_before</th>\n      <th>day_of_week</th>\n      <th>time</th>\n      <th>category</th>\n      <th>attended</th>\n    </tr>\n  </thead>\n  <tbody>\n    <tr>\n      <th>0</th>\n      <td>1</td>\n      <td>17</td>\n      <td>79.56</td>\n      <td>8</td>\n      <td>Wed</td>\n      <td>PM</td>\n      <td>Strength</td>\n      <td>0</td>\n    </tr>\n    <tr>\n      <th>1</th>\n      <td>2</td>\n      <td>10</td>\n      <td>79.01</td>\n      <td>2</td>\n      <td>Mon</td>\n      <td>AM</td>\n      <td>HIIT</td>\n      <td>0</td>\n    </tr>\n    <tr>\n      <th>2</th>\n      <td>3</td>\n      <td>16</td>\n      <td>74.53</td>\n      <td>14</td>\n      <td>Sun</td>\n      <td>AM</td>\n      <td>Strength</td>\n      <td>0</td>\n    </tr>\n    <tr>\n      <th>3</th>\n      <td>4</td>\n      <td>5</td>\n      <td>86.12</td>\n      <td>10</td>\n      <td>Fri</td>\n      <td>AM</td>\n      <td>Cycling</td>\n      <td>0</td>\n    </tr>\n    <tr>\n      <th>4</th>\n      <td>5</td>\n      <td>15</td>\n      <td>69.29</td>\n      <td>8</td>\n      <td>Thu</td>\n      <td>AM</td>\n      <td>HIIT</td>\n      <td>0</td>\n    </tr>\n    <tr>\n      <th>...</th>\n      <td>...</td>\n      <td>...</td>\n      <td>...</td>\n      <td>...</td>\n      <td>...</td>\n      <td>...</td>\n      <td>...</td>\n      <td>...</td>\n    </tr>\n    <tr>\n      <th>1495</th>\n      <td>1496</td>\n      <td>21</td>\n      <td>79.51</td>\n      <td>10</td>\n      <td>Fri</td>\n      <td>AM</td>\n      <td>HIIT</td>\n      <td>0</td>\n    </tr>\n    <tr>\n      <th>1496</th>\n      <td>1497</td>\n      <td>29</td>\n      <td>89.55</td>\n      <td>2</td>\n      <td>Mon</td>\n      <td>AM</td>\n      <td>Strength</td>\n      <td>0</td>\n    </tr>\n    <tr>\n      <th>1497</th>\n      <td>1498</td>\n      <td>9</td>\n      <td>87.38</td>\n      <td>4</td>\n      <td>Tue</td>\n      <td>AM</td>\n      <td>HIIT</td>\n      <td>0</td>\n    </tr>\n    <tr>\n      <th>1498</th>\n      <td>1499</td>\n      <td>34</td>\n      <td>68.64</td>\n      <td>14</td>\n      <td>Sun</td>\n      <td>AM</td>\n      <td>Aqua</td>\n      <td>0</td>\n    </tr>\n    <tr>\n      <th>1499</th>\n      <td>1500</td>\n      <td>20</td>\n      <td>94.39</td>\n      <td>8</td>\n      <td>Thu</td>\n      <td>AM</td>\n      <td>Cycling</td>\n      <td>1</td>\n    </tr>\n  </tbody>\n</table>\n<p>1500 rows × 8 columns</p>\n</div>"
     },
     "execution_count": 15,
     "metadata": {},
     "output_type": "execute_result"
    }
   ],
   "source": [
    "fitness = pd.read_csv('data/fitness_class_2212.csv')\n",
    "fitness"
   ],
   "metadata": {
    "collapsed": false,
    "ExecuteTime": {
     "end_time": "2023-11-03T00:34:47.794856Z",
     "start_time": "2023-11-03T00:34:47.756426Z"
    }
   },
   "id": "49ca046565d4fc81"
  },
  {
   "cell_type": "code",
   "execution_count": 16,
   "outputs": [
    {
     "name": "stdout",
     "output_type": "stream",
     "text": [
      "<class 'pandas.core.frame.DataFrame'>\n",
      "RangeIndex: 1500 entries, 0 to 1499\n",
      "Data columns (total 8 columns):\n",
      " #   Column            Non-Null Count  Dtype  \n",
      "---  ------            --------------  -----  \n",
      " 0   booking_id        1500 non-null   int64  \n",
      " 1   months_as_member  1500 non-null   int64  \n",
      " 2   weight            1480 non-null   float64\n",
      " 3   days_before       1500 non-null   object \n",
      " 4   day_of_week       1500 non-null   object \n",
      " 5   time              1500 non-null   object \n",
      " 6   category          1500 non-null   object \n",
      " 7   attended          1500 non-null   int64  \n",
      "dtypes: float64(1), int64(3), object(4)\n",
      "memory usage: 93.9+ KB\n"
     ]
    }
   ],
   "source": [
    "fitness.info()"
   ],
   "metadata": {
    "collapsed": false,
    "ExecuteTime": {
     "end_time": "2023-11-03T00:34:47.818614Z",
     "start_time": "2023-11-03T00:34:47.798437Z"
    }
   },
   "id": "dd1524ca0eff79b4"
  },
  {
   "cell_type": "markdown",
   "source": [
    "The only missing values are in the column `weight`. So, there is no need to impute any other column."
   ],
   "metadata": {
    "collapsed": false
   },
   "id": "36f245efe4c9aa8c"
  },
  {
   "cell_type": "markdown",
   "source": [
    "# Auxiliary functions"
   ],
   "metadata": {
    "collapsed": false
   },
   "id": "c71c1a608d441403"
  },
  {
   "cell_type": "code",
   "execution_count": 17,
   "outputs": [],
   "source": [
    "def show_unique(column):\n",
    "    if column not in fitness.columns:\n",
    "        raise ValueError(f'Column {column} not in dataframe {fitness}')\n",
    "    return fitness[column].drop_duplicates().sort_values().reset_index(drop=True)"
   ],
   "metadata": {
    "collapsed": false,
    "ExecuteTime": {
     "end_time": "2023-11-03T00:34:47.820594Z",
     "start_time": "2023-11-03T00:34:47.806420Z"
    }
   },
   "id": "e8ce9dc459f54989"
  },
  {
   "cell_type": "code",
   "execution_count": 18,
   "outputs": [],
   "source": [
    "def show_sensitivity(conf_mat):\n",
    "    senstivity = conf_mat[1, 1] / (conf_mat[1, 0] + conf_mat[1, 1])\n",
    "    print(f'Sensitivity: {senstivity}')"
   ],
   "metadata": {
    "collapsed": false,
    "ExecuteTime": {
     "end_time": "2023-11-03T00:34:47.840144Z",
     "start_time": "2023-11-03T00:34:47.811752Z"
    }
   },
   "id": "53f4ee0698ea8204"
  },
  {
   "cell_type": "code",
   "execution_count": 19,
   "outputs": [],
   "source": [
    "def show_specificity(conf_mat):\n",
    "    specificity = conf_mat[0, 0] / (conf_mat[0, 0] + conf_mat[0, 1])\n",
    "    print(f'Specificity: {specificity}')"
   ],
   "metadata": {
    "collapsed": false,
    "ExecuteTime": {
     "end_time": "2023-11-03T00:34:47.852415Z",
     "start_time": "2023-11-03T00:34:47.814617Z"
    }
   },
   "id": "6b5e2f3bd0a2805d"
  },
  {
   "cell_type": "code",
   "execution_count": 20,
   "outputs": [],
   "source": [
    "\n",
    "def show_roc_score(estimator, X_test, y_test):\n",
    "    y_pred = estimator.predict_proba(X_test)[:, 1]\n",
    "    print(f'ROC AUC score: {roc_auc_score(y_test, y_pred)}')"
   ],
   "metadata": {
    "collapsed": false,
    "ExecuteTime": {
     "end_time": "2023-11-03T00:34:47.855712Z",
     "start_time": "2023-11-03T00:34:47.822904Z"
    }
   },
   "id": "b8ffb30c5a7e3c13"
  },
  {
   "cell_type": "code",
   "execution_count": 21,
   "outputs": [],
   "source": [
    "plot_name = {\n",
    "    'booking_id': 'Booking ID',\n",
    "    'months_as_member': 'Months as member',\n",
    "    'weight': 'Weight',\n",
    "    'days_before': 'Days before',\n",
    "    'day_of_week': 'Day of week',\n",
    "    'time': 'Time',\n",
    "    'category': 'Category',\n",
    "    'attended': 'Attended'\n",
    "}"
   ],
   "metadata": {
    "collapsed": false,
    "ExecuteTime": {
     "end_time": "2023-11-03T00:34:47.904347Z",
     "start_time": "2023-11-03T00:34:47.859116Z"
    }
   },
   "id": "63772fe88fd9744f"
  },
  {
   "cell_type": "markdown",
   "source": [
    "# Data validation\n",
    "I will check every variable in its own subsection. At the end, I will add a summary of the results."
   ],
   "metadata": {
    "collapsed": false
   },
   "id": "8d5a55fd8d1c6c98"
  },
  {
   "cell_type": "markdown",
   "source": [
    "## `booking_id`\n",
    "There is no duplicates, and the values are unique. Also, the values are integers (even though the method `describe` transforms then into float)."
   ],
   "metadata": {
    "collapsed": false
   },
   "id": "b9e2b7a54cccf805"
  },
  {
   "cell_type": "code",
   "execution_count": 22,
   "outputs": [
    {
     "data": {
      "text/plain": "count    1500.000000\nmean      750.500000\nstd       433.157015\nmin         1.000000\n25%       375.750000\n50%       750.500000\n75%      1125.250000\nmax      1500.000000\nName: booking_id, dtype: float64"
     },
     "execution_count": 22,
     "metadata": {},
     "output_type": "execute_result"
    }
   ],
   "source": [
    "fitness['booking_id'].describe()"
   ],
   "metadata": {
    "collapsed": false,
    "ExecuteTime": {
     "end_time": "2023-11-03T00:34:47.915387Z",
     "start_time": "2023-11-03T00:34:47.907131Z"
    }
   },
   "id": "3feb582ca6c7a75d"
  },
  {
   "cell_type": "code",
   "execution_count": 23,
   "outputs": [
    {
     "data": {
      "text/plain": "False"
     },
     "execution_count": 23,
     "metadata": {},
     "output_type": "execute_result"
    }
   ],
   "source": [
    "fitness['booking_id'].duplicated().any()"
   ],
   "metadata": {
    "collapsed": false,
    "ExecuteTime": {
     "end_time": "2023-11-03T00:34:47.929693Z",
     "start_time": "2023-11-03T00:34:47.918028Z"
    }
   },
   "id": "49fa6bbec4050cb8"
  },
  {
   "cell_type": "markdown",
   "source": [
    "## `months_as_member`\n",
    "As mentioned above, there are no missing values, so there is not necessary to impute. The minimum value is 1 as expected."
   ],
   "metadata": {
    "collapsed": false
   },
   "id": "235ebd5c88080a7"
  },
  {
   "cell_type": "code",
   "execution_count": 24,
   "outputs": [
    {
     "data": {
      "text/plain": "count    1500.000000\nmean       15.628667\nstd        12.926543\nmin         1.000000\n25%         8.000000\n50%        12.000000\n75%        19.000000\nmax       148.000000\nName: months_as_member, dtype: float64"
     },
     "execution_count": 24,
     "metadata": {},
     "output_type": "execute_result"
    }
   ],
   "source": [
    "fitness['months_as_member'].describe()"
   ],
   "metadata": {
    "collapsed": false,
    "ExecuteTime": {
     "end_time": "2023-11-03T00:34:47.955069Z",
     "start_time": "2023-11-03T00:34:47.929100Z"
    }
   },
   "id": "7ced0be9a5215a31"
  },
  {
   "cell_type": "code",
   "execution_count": 25,
   "outputs": [],
   "source": [
    "assert fitness['months_as_member'].min() >= 1"
   ],
   "metadata": {
    "collapsed": false,
    "ExecuteTime": {
     "end_time": "2023-11-03T00:34:47.977444Z",
     "start_time": "2023-11-03T00:34:47.956332Z"
    }
   },
   "id": "f40b854c208ac018"
  },
  {
   "cell_type": "markdown",
   "source": [
    "## `weight`\n",
    "There are missing values, so I will impute them with the mean. The minimum value is 40 as expected."
   ],
   "metadata": {
    "collapsed": false
   },
   "id": "74d4a4007a66632b"
  },
  {
   "cell_type": "code",
   "execution_count": 26,
   "outputs": [
    {
     "data": {
      "text/plain": "count    1480.000000\nmean       82.610378\nstd        12.765859\nmin        55.410000\n25%        73.490000\n50%        80.760000\n75%        89.520000\nmax       170.520000\nName: weight, dtype: float64"
     },
     "execution_count": 26,
     "metadata": {},
     "output_type": "execute_result"
    }
   ],
   "source": [
    "fitness['weight'].describe()"
   ],
   "metadata": {
    "collapsed": false,
    "ExecuteTime": {
     "end_time": "2023-11-03T00:34:47.985021Z",
     "start_time": "2023-11-03T00:34:47.966257Z"
    }
   },
   "id": "607913c4e5a29906"
  },
  {
   "cell_type": "code",
   "execution_count": 27,
   "outputs": [],
   "source": [
    "assert fitness['weight'].min() >= 40.0"
   ],
   "metadata": {
    "collapsed": false,
    "ExecuteTime": {
     "end_time": "2023-11-03T00:34:48.003367Z",
     "start_time": "2023-11-03T00:34:47.987900Z"
    }
   },
   "id": "3b165d2128a68424"
  },
  {
   "cell_type": "code",
   "execution_count": 28,
   "outputs": [
    {
     "data": {
      "text/plain": "20"
     },
     "execution_count": 28,
     "metadata": {},
     "output_type": "execute_result"
    }
   ],
   "source": [
    "fitness['weight'].isna().sum()"
   ],
   "metadata": {
    "collapsed": false,
    "ExecuteTime": {
     "end_time": "2023-11-03T00:34:48.014349Z",
     "start_time": "2023-11-03T00:34:48.005677Z"
    }
   },
   "id": "a0a5a5e63f14f6d6"
  },
  {
   "cell_type": "code",
   "execution_count": 29,
   "outputs": [],
   "source": [
    "fitness['weight'].fillna(fitness['weight'].mean(), inplace=True)"
   ],
   "metadata": {
    "collapsed": false,
    "ExecuteTime": {
     "end_time": "2023-11-03T00:34:48.024665Z",
     "start_time": "2023-11-03T00:34:48.015253Z"
    }
   },
   "id": "8ba86e630eba60ea"
  },
  {
   "cell_type": "code",
   "execution_count": 30,
   "outputs": [],
   "source": [
    "assert fitness['weight'].isna().sum() == 0"
   ],
   "metadata": {
    "collapsed": false,
    "ExecuteTime": {
     "end_time": "2023-11-03T00:34:48.025048Z",
     "start_time": "2023-11-03T00:34:48.018810Z"
    }
   },
   "id": "5b7f2e7e3eea16e9"
  },
  {
   "cell_type": "markdown",
   "source": [
    "## `days_before`\n",
    "Is a discrete variable, but there is a problem with the values. There are some values with the string `days` at the end. Also, there are some values with spaces at the beginning. I will remove the string `days` and the spaces at the beginning. The minimum value is 1 as expected."
   ],
   "metadata": {
    "collapsed": false
   },
   "id": "1aa254f73b896ca6"
  },
  {
   "cell_type": "code",
   "execution_count": 31,
   "outputs": [
    {
     "data": {
      "text/plain": "0           1\n1      1 days\n2          10\n3     10 days\n4          11\n5          12\n6     12 days\n7          13\n8     13 days\n9          14\n10    14 days\n11         15\n12         16\n13         17\n14          2\n15     2 days\n16         20\n17         29\n18          3\n19     3 days\n20          4\n21     4 days\n22          5\n23     5 days\n24          6\n25     6 days\n26          7\n27     7 days\n28          8\n29     8 days\n30          9\nName: days_before, dtype: object"
     },
     "execution_count": 31,
     "metadata": {},
     "output_type": "execute_result"
    }
   ],
   "source": [
    "show_unique('days_before')"
   ],
   "metadata": {
    "collapsed": false,
    "ExecuteTime": {
     "end_time": "2023-11-03T00:34:48.065508Z",
     "start_time": "2023-11-03T00:34:48.027870Z"
    }
   },
   "id": "fa4c4411cf4f032c"
  },
  {
   "cell_type": "code",
   "execution_count": 32,
   "outputs": [
    {
     "data": {
      "text/plain": "0      1\n1      2\n2      3\n3      4\n4      5\n5      6\n6      7\n7      8\n8      9\n9     10\n10    11\n11    12\n12    13\n13    14\n14    15\n15    16\n16    17\n17    20\n18    29\nName: days_before, dtype: int64"
     },
     "execution_count": 32,
     "metadata": {},
     "output_type": "execute_result"
    }
   ],
   "source": [
    "fitness['days_before'] = (\n",
    "    fitness['days_before']\n",
    "    .str.replace(r'\\s*days', '', regex=True)\n",
    "    .str.strip().astype(int)\n",
    ")\n",
    "show_unique('days_before')"
   ],
   "metadata": {
    "collapsed": false,
    "ExecuteTime": {
     "end_time": "2023-11-03T00:34:48.067868Z",
     "start_time": "2023-11-03T00:34:48.051328Z"
    }
   },
   "id": "c814d3408f69e473"
  },
  {
   "cell_type": "code",
   "execution_count": 33,
   "outputs": [],
   "source": [
    "assert fitness['days_before'].min() >= 1"
   ],
   "metadata": {
    "collapsed": false,
    "ExecuteTime": {
     "end_time": "2023-11-03T00:34:48.110045Z",
     "start_time": "2023-11-03T00:34:48.070180Z"
    }
   },
   "id": "c4110c63aa372924"
  },
  {
   "cell_type": "markdown",
   "source": [
    "## `day_of_week`\n",
    "There are some misspellings, and the days have a natural order."
   ],
   "metadata": {
    "collapsed": false
   },
   "id": "1a6938ac562e1356"
  },
  {
   "cell_type": "code",
   "execution_count": 34,
   "outputs": [
    {
     "data": {
      "text/plain": "0          Fri\n1         Fri.\n2          Mon\n3       Monday\n4          Sat\n5          Sun\n6          Thu\n7          Tue\n8          Wed\n9    Wednesday\nName: day_of_week, dtype: object"
     },
     "execution_count": 34,
     "metadata": {},
     "output_type": "execute_result"
    }
   ],
   "source": [
    "show_unique('day_of_week')"
   ],
   "metadata": {
    "collapsed": false,
    "ExecuteTime": {
     "end_time": "2023-11-03T00:34:48.127972Z",
     "start_time": "2023-11-03T00:34:48.113869Z"
    }
   },
   "id": "9430c3d76a30ff50"
  },
  {
   "cell_type": "code",
   "execution_count": 35,
   "outputs": [],
   "source": [
    "day_map = {\n",
    "    'Fri.': 'Fri',\n",
    "    'Monday': 'Mon',\n",
    "    'Wednesday': 'Wed'\n",
    "}"
   ],
   "metadata": {
    "collapsed": false,
    "ExecuteTime": {
     "end_time": "2023-11-03T00:34:48.131026Z",
     "start_time": "2023-11-03T00:34:48.124680Z"
    }
   },
   "id": "a6dd1104f129ef1d"
  },
  {
   "cell_type": "code",
   "execution_count": 36,
   "outputs": [
    {
     "data": {
      "text/plain": "0    Fri\n1    Mon\n2    Sat\n3    Sun\n4    Thu\n5    Tue\n6    Wed\nName: day_of_week, dtype: object"
     },
     "execution_count": 36,
     "metadata": {},
     "output_type": "execute_result"
    }
   ],
   "source": [
    "fitness['day_of_week'] = fitness['day_of_week'].replace(day_map)\n",
    "show_unique('day_of_week')"
   ],
   "metadata": {
    "collapsed": false,
    "ExecuteTime": {
     "end_time": "2023-11-03T00:34:48.156889Z",
     "start_time": "2023-11-03T00:34:48.134811Z"
    }
   },
   "id": "37f0634680ac4f7f"
  },
  {
   "cell_type": "code",
   "execution_count": 37,
   "outputs": [
    {
     "data": {
      "text/plain": "0    Mon\n1    Tue\n2    Wed\n3    Thu\n4    Fri\n5    Sat\n6    Sun\nName: day_of_week, dtype: category\nCategories (7, object): ['Mon' < 'Tue' < 'Wed' < 'Thu' < 'Fri' < 'Sat' < 'Sun']"
     },
     "execution_count": 37,
     "metadata": {},
     "output_type": "execute_result"
    }
   ],
   "source": [
    "fitness['day_of_week'] = (\n",
    "    fitness['day_of_week'].astype('category')\n",
    "    .cat.set_categories(['Mon', 'Tue', 'Wed', 'Thu', 'Fri', 'Sat', 'Sun'])\n",
    "    .cat.as_ordered()\n",
    ")\n",
    "show_unique('day_of_week')"
   ],
   "metadata": {
    "collapsed": false,
    "ExecuteTime": {
     "end_time": "2023-11-03T00:34:48.158804Z",
     "start_time": "2023-11-03T00:34:48.142469Z"
    }
   },
   "id": "fc102a414fef9263"
  },
  {
   "cell_type": "markdown",
   "source": [
    "## `time`\n",
    "There are not errors, all is correct."
   ],
   "metadata": {
    "collapsed": false
   },
   "id": "487f5a3471af8243"
  },
  {
   "cell_type": "code",
   "execution_count": 38,
   "outputs": [
    {
     "data": {
      "text/plain": "0    AM\n1    PM\nName: time, dtype: object"
     },
     "execution_count": 38,
     "metadata": {},
     "output_type": "execute_result"
    }
   ],
   "source": [
    "show_unique('time')"
   ],
   "metadata": {
    "collapsed": false,
    "ExecuteTime": {
     "end_time": "2023-11-03T00:34:48.205025Z",
     "start_time": "2023-11-03T00:34:48.163974Z"
    }
   },
   "id": "8ce4fdcd029c5b3c"
  },
  {
   "cell_type": "code",
   "execution_count": 39,
   "outputs": [
    {
     "data": {
      "text/plain": "0    AM\n1    PM\nName: time, dtype: category\nCategories (2, object): ['AM' < 'PM']"
     },
     "execution_count": 39,
     "metadata": {},
     "output_type": "execute_result"
    }
   ],
   "source": [
    "fitness['time'] = (\n",
    "    fitness['time'].astype('category')\n",
    "    .cat.set_categories(['AM', 'PM'])\n",
    "    .cat.as_ordered()\n",
    ")\n",
    "show_unique('time')"
   ],
   "metadata": {
    "collapsed": false,
    "ExecuteTime": {
     "end_time": "2023-11-03T00:34:48.207763Z",
     "start_time": "2023-11-03T00:34:48.179652Z"
    }
   },
   "id": "15be443e7ff3d783"
  },
  {
   "cell_type": "markdown",
   "source": [
    "## `category`\n",
    "There is an unknown category `'-'`."
   ],
   "metadata": {
    "collapsed": false
   },
   "id": "41a7cd5135183353"
  },
  {
   "cell_type": "code",
   "execution_count": 40,
   "outputs": [
    {
     "data": {
      "text/plain": "0           -\n1        Aqua\n2     Cycling\n3        HIIT\n4    Strength\n5        Yoga\nName: category, dtype: object"
     },
     "execution_count": 40,
     "metadata": {},
     "output_type": "execute_result"
    }
   ],
   "source": [
    "show_unique('category')"
   ],
   "metadata": {
    "collapsed": false,
    "ExecuteTime": {
     "end_time": "2023-11-03T00:34:48.227092Z",
     "start_time": "2023-11-03T00:34:48.211156Z"
    }
   },
   "id": "ec342bfbfd91c23e"
  },
  {
   "cell_type": "code",
   "execution_count": 41,
   "outputs": [
    {
     "data": {
      "text/plain": "0        Yoga\n1        Aqua\n2    Strength\n3        HIIT\n4     Cycling\n5     unknown\nName: category, dtype: category\nCategories (6, object): ['Yoga', 'Aqua', 'Strength', 'HIIT', 'Cycling', 'unknown']"
     },
     "execution_count": 41,
     "metadata": {},
     "output_type": "execute_result"
    }
   ],
   "source": [
    "fitness['category'] = (\n",
    "    fitness['category']\n",
    "    .str.replace(r'-', 'unknown', regex=True)\n",
    "    .astype('category')\n",
    "    .cat.set_categories(['Yoga', 'Aqua', 'Strength', 'HIIT', 'Cycling', 'unknown'])\n",
    ")\n",
    "show_unique('category')"
   ],
   "metadata": {
    "collapsed": false,
    "ExecuteTime": {
     "end_time": "2023-11-03T00:34:48.238770Z",
     "start_time": "2023-11-03T00:34:48.232107Z"
    }
   },
   "id": "6a4cd7e18bef334d"
  },
  {
   "cell_type": "markdown",
   "source": [
    "## `attended`\n",
    "I prefer to use the values `Yes` and `No` instead of `1` and `0` in the analysis. In the model, I will use the original values."
   ],
   "metadata": {
    "collapsed": false
   },
   "id": "a53d83edd0b6f99b"
  },
  {
   "cell_type": "code",
   "execution_count": 42,
   "outputs": [
    {
     "data": {
      "text/plain": "0    0\n1    1\nName: attended, dtype: int64"
     },
     "execution_count": 42,
     "metadata": {},
     "output_type": "execute_result"
    }
   ],
   "source": [
    "show_unique('attended')"
   ],
   "metadata": {
    "collapsed": false,
    "ExecuteTime": {
     "end_time": "2023-11-03T00:34:48.246921Z",
     "start_time": "2023-11-03T00:34:48.238549Z"
    }
   },
   "id": "fcf05be033bac17e"
  },
  {
   "cell_type": "code",
   "execution_count": 44,
   "outputs": [
    {
     "data": {
      "text/plain": "0    Yes\n1     No\nName: attended, dtype: category\nCategories (2, object): ['Yes' < 'No']"
     },
     "execution_count": 44,
     "metadata": {},
     "output_type": "execute_result"
    }
   ],
   "source": [
    "fitness['attended'] = (\n",
    "    fitness['attended']\n",
    "    .replace({0: 'No', 1: 'Yes'})\n",
    "    .astype('category')\n",
    "    .cat.set_categories(['Yes', 'No'])\n",
    "    .cat.as_ordered()\n",
    ")\n",
    "show_unique('attended')"
   ],
   "metadata": {
    "collapsed": false,
    "ExecuteTime": {
     "end_time": "2023-11-03T00:35:51.215853Z",
     "start_time": "2023-11-03T00:35:51.208453Z"
    }
   },
   "id": "2036985e1ad32721"
  }
 ],
 "metadata": {
  "kernelspec": {
   "display_name": "Python 3",
   "language": "python",
   "name": "python3"
  },
  "language_info": {
   "codemirror_mode": {
    "name": "ipython",
    "version": 2
   },
   "file_extension": ".py",
   "mimetype": "text/x-python",
   "name": "python",
   "nbconvert_exporter": "python",
   "pygments_lexer": "ipython2",
   "version": "2.7.6"
  }
 },
 "nbformat": 4,
 "nbformat_minor": 5
}
